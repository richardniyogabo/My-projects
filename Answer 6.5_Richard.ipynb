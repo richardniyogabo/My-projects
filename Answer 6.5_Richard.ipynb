{
 "cells": [
  {
   "cell_type": "code",
   "execution_count": 99,
   "id": "05348bc5",
   "metadata": {},
   "outputs": [],
   "source": [
    "# Importing Libraries\n",
    "import pandas as pd\n",
    "import numpy as np\n",
    "import seaborn as sns \n",
    "import sklearn\n",
    "from sklearn.cluster import KMeans\n",
    "import matplotlib.pyplot as plt"
   ]
  },
  {
   "cell_type": "code",
   "execution_count": 100,
   "id": "0ca2f875",
   "metadata": {},
   "outputs": [],
   "source": [
    "# Reading data from Dataset\n",
    "df = pd.read_csv('train2.csv')"
   ]
  },
  {
   "cell_type": "code",
   "execution_count": 101,
   "id": "4bf9561a",
   "metadata": {},
   "outputs": [
    {
     "data": {
      "text/plain": [
       "Index(['Id', 'MSSubClass', 'MSZoning', 'LotFrontage', 'LotArea', 'Street',\n",
       "       'Alley', 'LotShape', 'LandContour', 'Utilities', 'LotConfig',\n",
       "       'LandSlope', 'Neighborhood', 'Condition1', 'Condition2', 'BldgType',\n",
       "       'HouseStyle', 'OverallQual', 'OverallCond', 'YearBuilt', 'YearRemodAdd',\n",
       "       'RoofStyle', 'RoofMatl', 'Exterior1st', 'Exterior2nd', 'MasVnrType',\n",
       "       'MasVnrArea', 'ExterQual', 'ExterCond', 'Foundation', 'BsmtQual',\n",
       "       'BsmtCond', 'BsmtExposure', 'BsmtFinType1', 'BsmtFinSF1',\n",
       "       'BsmtFinType2', 'BsmtFinSF2', 'BsmtUnfSF', 'TotalBsmtSF', 'Heating',\n",
       "       'HeatingQC', 'CentralAir', 'Electrical', '1stFlrSF', '2ndFlrSF',\n",
       "       'LowQualFinSF', 'GrLivArea', 'BsmtFullBath', 'BsmtHalfBath', 'FullBath',\n",
       "       'HalfBath', 'BedroomAbvGr', 'KitchenAbvGr', 'KitchenQual',\n",
       "       'TotRmsAbvGrd', 'Functional', 'Fireplaces', 'FireplaceQu', 'GarageType',\n",
       "       'GarageYrBlt', 'GarageFinish', 'GarageCars', 'GarageArea', 'GarageQual',\n",
       "       'GarageCond', 'PavedDrive', 'WoodDeckSF', 'OpenPorchSF',\n",
       "       'EnclosedPorch', '3SsnPorch', 'ScreenPorch', 'PoolArea', 'PoolQC',\n",
       "       'Fence', 'MiscFeature', 'MiscVal', 'MoSold', 'YrSold', 'SaleType',\n",
       "       'SaleCondition', 'SalePrice'],\n",
       "      dtype='object')"
      ]
     },
     "execution_count": 101,
     "metadata": {},
     "output_type": "execute_result"
    }
   ],
   "source": [
    "df.columns"
   ]
  },
  {
   "cell_type": "code",
   "execution_count": 102,
   "id": "2bf4e6c0",
   "metadata": {},
   "outputs": [],
   "source": [
    "df.rename(columns = {\n",
    "    'MSSubClass':'IdentityDwellingType',\n",
    "    'MSZoning':'ZoneType',\n",
    "    'BldgType':'DwellingType',\n",
    "    'BsmtQual':'BasementQuality',\n",
    "    'HeatingQC':'HeatingQualityCondition',\n",
    "    'GarageQual':'GarageQuality',\n",
    "}, inplace = True)"
   ]
  },
  {
   "cell_type": "code",
   "execution_count": 103,
   "id": "1a283000",
   "metadata": {
    "scrolled": false
   },
   "outputs": [
    {
     "name": "stderr",
     "output_type": "stream",
     "text": [
      "/var/folders/lt/x749qs4j6wvcvnsl38kfg1280000gn/T/ipykernel_52736/621223307.py:1: FutureWarning: In a future version of pandas all arguments of DataFrame.drop except for the argument 'labels' will be keyword-only.\n",
      "  df.drop(df.columns.difference([\n"
     ]
    }
   ],
   "source": [
    "df.drop(df.columns.difference([\n",
    "\"IdentityDwellingType\",\n",
    "\"DwellingType\",\n",
    "\"LotFrontage\",\n",
    "\"LotArea\",\n",
    "\"Street\",\n",
    "\"ZoneType\",\n",
    "\"HouseStyle\",\n",
    "\"RoofStyle\",\n",
    "\"Exterior1st\",\n",
    "\"Foundation\",\n",
    "\"BasementQuality\",\n",
    "\"Heating\",\n",
    "\"HeatingQualityCondition\",\n",
    "\"Electrical\",\n",
    "\"Bedroom\",\n",
    "\"KitchenQual\",\n",
    "\"GarageQuality\",\n",
    "\"GarageArea\",\n",
    "\"SalePrice\"\n",
    "]), 1, inplace=True)"
   ]
  },
  {
   "cell_type": "code",
   "execution_count": 104,
   "id": "aff57b19",
   "metadata": {},
   "outputs": [],
   "source": [
    "# because some columns contains non numerical data and KMeans accepts only numerical data\n",
    "# so we are going to take those ntext data and represent them with numerical data\n",
    "# the below lines of codes in comments conains three columns the first contains the text that are in dataframe\n",
    "# second column has the explanations of that representation in dataframe \n",
    "# third column has the numerical value to be assigned to that in the dataframe\n",
    "# we will be using the dataframe[column].replace() functions wich takes text data and numerical data to represents them as arguments"
   ]
  },
  {
   "cell_type": "code",
   "execution_count": 105,
   "id": "667b8db3",
   "metadata": {},
   "outputs": [],
   "source": [
    "# change zone types into numerical value\n",
    "\n",
    "    #    A   Agriculture                         10                  \n",
    "    #    C  Commercial                          20\n",
    "    #    FV Floating Village Residential        30\n",
    "    #    I  Industrial                          40\n",
    "    #    RH Residential High Density            50\n",
    "    #    RL Residential Low Density             60\n",
    "    #    RP Residential Low Density Park        60\n",
    "    #    RM Residential Medium Density          80"
   ]
  },
  {
   "cell_type": "code",
   "execution_count": 106,
   "id": "b9e6f2be",
   "metadata": {},
   "outputs": [],
   "source": [
    "df['ZoneType'] = df['ZoneType'].replace(['A','C (all)','FV','I','RH','RL','RP','RM'],[10,20,30,40,50,60,70,80])\n"
   ]
  },
  {
   "cell_type": "code",
   "execution_count": 107,
   "id": "9248eaf2",
   "metadata": {},
   "outputs": [],
   "source": [
    "# change Type of road access to property\n",
    "    #    Grvl Gravel    10\n",
    "    #    Pave   Paved   20\n"
   ]
  },
  {
   "cell_type": "code",
   "execution_count": 108,
   "id": "4990df33",
   "metadata": {},
   "outputs": [],
   "source": [
    "df['Street'] = df['Street'].replace(['Grvl','Pave'],[10,20])"
   ]
  },
  {
   "cell_type": "code",
   "execution_count": 109,
   "id": "bde177bf",
   "metadata": {},
   "outputs": [],
   "source": [
    "# BldgType: Type of dwelling\n",
    "\n",
    "#        1Fam Single-family Detached                                                10\n",
    "#        2FmCon Two-family Conversion; originally built as one-family dwelling      20\n",
    "#        Duplx Duplex                                                               30\n",
    "#        TwnhsE Townhouse End Unit                                                  40\n",
    "#        TwnhsI Townhouse Inside Unit                                               50\n"
   ]
  },
  {
   "cell_type": "code",
   "execution_count": 110,
   "id": "11efd99d",
   "metadata": {},
   "outputs": [],
   "source": [
    "df['DwellingType'] = df['DwellingType'].replace(['1Fam','2fmCon','Duplex','TwnhsE','Twnhs'],[10,20,30,40,50])\n"
   ]
  },
  {
   "cell_type": "code",
   "execution_count": 111,
   "id": "2896f9fd",
   "metadata": {},
   "outputs": [],
   "source": [
    "# HouseStyle: Style of dwelling\n",
    "\n",
    "#        1Story\tOne story                                                  10\n",
    "#        1.5Fin\tOne and one-half story: 2nd level finished                 20\n",
    "#        1.5Unf\tOne and one-half story: 2nd level unfinished               30\n",
    "#        2Story\tTwo story                                                  40\n",
    "#        2.5Fin\tTwo and one-half story: 2nd level finished                 50\n",
    "#        2.5Unf\tTwo and one-half story: 2nd level unfinished               60\n",
    "#        SFoyer\tSplit Foyer                                                70\n",
    "#        SLvl\tSplit Level                                                80"
   ]
  },
  {
   "cell_type": "code",
   "execution_count": 112,
   "id": "86a3d56b",
   "metadata": {},
   "outputs": [],
   "source": [
    "df['HouseStyle'] = df['HouseStyle'].replace(['1Story','1.5Fin','1.5Unf','2Story','2.5Fin','2.5Unf','SFoyer','SLvl'],[10,20,30,40,50,60,70,80])"
   ]
  },
  {
   "cell_type": "code",
   "execution_count": 113,
   "id": "949b74b8",
   "metadata": {},
   "outputs": [],
   "source": [
    "# RoofStyle: Type of roof\n",
    "\n",
    "#        Flat   Flat                    10\n",
    "#        Gable  Gable                   20\n",
    "#        Gambrel    Gabrel (Barn)       30\n",
    "#        Hip    Hip                     40\n",
    "#        Mansard    Mansard             50\n",
    "#        Shed   Shed                    60"
   ]
  },
  {
   "cell_type": "code",
   "execution_count": 114,
   "id": "4c09b2bb",
   "metadata": {},
   "outputs": [],
   "source": [
    "df['RoofStyle'] = df['RoofStyle'].replace(['Flat','Gable','Gambrel','Hip','Mansard','Shed'],[10,20,30,40,50,60])"
   ]
  },
  {
   "cell_type": "code",
   "execution_count": 115,
   "id": "8366f0a1",
   "metadata": {},
   "outputs": [],
   "source": [
    "# Exterior1st: Exterior covering on house\n",
    "\n",
    "#        AsbShng    Asbestos Shingles   10\n",
    "#        AsphShn    Asphalt Shingles    20\n",
    "#        BrkComm    Brick Common        30\n",
    "#        BrkFace    Brick Face          40\n",
    "#        CBlock\tCinder Block            50\n",
    "#        CemntBd    Cement Board        60\n",
    "#        HdBoard    Hard Board          70\n",
    "#        ImStucc    Imitation Stucco    80\n",
    "#        MetalSd    Metal Siding        90\n",
    "#        Other  Other                   100\n",
    "#        Plywood    Plywood             110\n",
    "#        PreCast   PreCast              120\n",
    "#        Stone  Stone                   130\n",
    "#        Stucco Stucco                  140\n",
    "#        VinylSd    Vinyl Siding        150\n",
    "#        Wd Sdng    Wood Siding         160\n",
    "#        WdShing    Wood Shingles       170"
   ]
  },
  {
   "cell_type": "code",
   "execution_count": 116,
   "id": "0db2bfd7",
   "metadata": {},
   "outputs": [],
   "source": [
    "df['Exterior1st'] = df['Exterior1st'].replace(['AsbShng','AsphShn','BrkComm','BrkFace','CBlock','CemntBd','HdBoard',\n",
    "'ImStucc','MetalSd','Other','Plywood','PreCast','Stone','Stucco','VinylSd','Wd Sdng','WdShing'\n",
    "],[10,20,30,40,50,60,70,80,90,100,110,120,130,140,150,160,170])"
   ]
  },
  {
   "cell_type": "code",
   "execution_count": 117,
   "id": "b75d3bce",
   "metadata": {},
   "outputs": [],
   "source": [
    "# Foundation: Type of foundation\n",
    "\n",
    "#        BrkTil Brick & Tile       10\n",
    "#        CBlock Cinder Block       20\n",
    "#        PConc Poured Contrete     30\n",
    "#        Slab   Slab               40\n",
    "#        Stone  Stone              50\n",
    "#        Wood   Wood               60"
   ]
  },
  {
   "cell_type": "code",
   "execution_count": 118,
   "id": "a36c2e7c",
   "metadata": {},
   "outputs": [],
   "source": [
    "df['Foundation'] = df['Foundation'].replace(['BrkTil','CBlock','PConc','Slab','Stone','Wood'],[10,20,30,40,50,60])\n"
   ]
  },
  {
   "cell_type": "code",
   "execution_count": 119,
   "id": "20b73e90",
   "metadata": {},
   "outputs": [],
   "source": [
    "# BsmtQual: Evaluates the height of the basement\n",
    "\n",
    "#        Ex Excellent (100+ inches)     10\n",
    "#        Gd Good (90-99 inches)         20\n",
    "#        TA Typical (80-89 inches)      30\n",
    "#        Fa Fair (70-79 inches)         40\n",
    "#        Po Poor (<70 inches            50\n",
    "#        NA No Basement                 60"
   ]
  },
  {
   "cell_type": "code",
   "execution_count": 120,
   "id": "844af1f4",
   "metadata": {},
   "outputs": [],
   "source": [
    "df['BasementQuality'] = df['BasementQuality'].replace(['Ex','Gd','TA','Fa','Po','NA'],[10,20,30,40,50,60])"
   ]
  },
  {
   "cell_type": "code",
   "execution_count": 121,
   "id": "bbb70799",
   "metadata": {},
   "outputs": [],
   "source": [
    "# Heating: Type of heating\n",
    "\n",
    "#        Floor  Floor Furnace                           10\n",
    "#        GasA   Gas forced warm air furnace             20\n",
    "#        GasW   Gas hot water or steam heat             30\n",
    "#        Grav  Gravity furnace                          40\n",
    "#        OthW   Hot water or steam heat other than gas  50\n",
    "#        Wall   Wall furnace                            60"
   ]
  },
  {
   "cell_type": "code",
   "execution_count": 122,
   "id": "3bb0940f",
   "metadata": {},
   "outputs": [],
   "source": [
    "df['Heating'] = df['Heating'].replace(['Floor','GasA','GasW','Grav','OthW','Wall'],[10,20,30,40,50,60])"
   ]
  },
  {
   "cell_type": "code",
   "execution_count": 123,
   "id": "54e72979",
   "metadata": {},
   "outputs": [],
   "source": [
    "# HeatingQC: Heating quality and condition\n",
    "\n",
    "#        Ex Excellent           10\n",
    "#        Gd Good                20\n",
    "#        TA Average/Typical     30\n",
    "#        Fa Fair                40\n",
    "#        Po Poor                50\n"
   ]
  },
  {
   "cell_type": "code",
   "execution_count": 124,
   "id": "126d0b18",
   "metadata": {},
   "outputs": [],
   "source": [
    "df['HeatingQualityCondition'] = df['HeatingQualityCondition'].replace(['Ex','Gd','TA','Fa','Po'],[10,20,30,40,50])"
   ]
  },
  {
   "cell_type": "code",
   "execution_count": 125,
   "id": "eacf81df",
   "metadata": {},
   "outputs": [],
   "source": [
    "# Electrical: Electrical system\n",
    "\n",
    "#        SBrkr  Standard Circuit Breakers & Romex                       10\n",
    "#        FuseA  Fuse Box over 60 AMP and all Romex wiring (Average)\t    20\n",
    "#        FuseF  60 AMP Fuse Box and mostly Romex wiring (Fair)          30\n",
    "#        FuseP  60 AMP Fuse Box and mostly knob & tube wiring (poor)    40\n",
    "#        Mix    Mixed                                                   50"
   ]
  },
  {
   "cell_type": "code",
   "execution_count": 126,
   "id": "7f36eebb",
   "metadata": {},
   "outputs": [],
   "source": [
    "df['Electrical'] = df['Electrical'].replace(['SBrkr','FuseA','FuseF','FuseP','Mix'],[10,20,30,40,50])\n"
   ]
  },
  {
   "cell_type": "code",
   "execution_count": 127,
   "id": "7347e6e5",
   "metadata": {},
   "outputs": [],
   "source": [
    "# KitchenQual: Kitchen quality\n",
    "\n",
    "#        Ex Excellent           10\n",
    "#        Gd Good                20\n",
    "#        TA Typical/Average     30\n",
    "#        Fa Fair                40\n",
    "#        Po Poor                50"
   ]
  },
  {
   "cell_type": "code",
   "execution_count": 128,
   "id": "934fd0b0",
   "metadata": {},
   "outputs": [],
   "source": [
    "df['KitchenQual'] = df['KitchenQual'].replace(['Ex','Gd','TA','Fa','Po'],[10,20,30,40,50])"
   ]
  },
  {
   "cell_type": "code",
   "execution_count": 129,
   "id": "ae10fc3f",
   "metadata": {},
   "outputs": [],
   "source": [
    "# GarageQual: Garage quality\n",
    "\n",
    "#        Ex Excellent           10\n",
    "#        Gd Good                20\n",
    "#        TA Typical/Average     30\n",
    "#        Fa Fair                40\n",
    "#        Po Poor                50\n",
    "#        NA No Garage           60"
   ]
  },
  {
   "cell_type": "code",
   "execution_count": 130,
   "id": "bdacd836",
   "metadata": {},
   "outputs": [],
   "source": [
    "df['GarageQuality'] = df['GarageQuality'].replace(['Ex','Gd','TA','Fa','Po','NA'],[10,20,30,40,50,60])\n"
   ]
  },
  {
   "cell_type": "code",
   "execution_count": 131,
   "id": "a7c64dc9",
   "metadata": {},
   "outputs": [],
   "source": [
    "# beacause some columns contains null value as for example the garage quality column will contain null for house without garage\n",
    "# so null will be replaced by 0\n",
    "df[\"LotFrontage\"].fillna(0, inplace = True)\n",
    "df[\"BasementQuality\"].fillna(0, inplace = True)\n",
    "df[\"GarageQuality\"].fillna(0, inplace = True)\n",
    "\n",
    "# after feeling all null value with 0 in mentioned columns there might be some columns with null value without understandable\n",
    "# explanation so wie will drop that columns"
   ]
  },
  {
   "cell_type": "code",
   "execution_count": 132,
   "id": "7963ef38",
   "metadata": {},
   "outputs": [],
   "source": [
    "df.dropna(inplace = True)"
   ]
  },
  {
   "cell_type": "code",
   "execution_count": 133,
   "id": "4b11e8a7",
   "metadata": {},
   "outputs": [],
   "source": [
    "# calculating number of clusters using Elbow Technique\n",
    "\n",
    "num_of_potential_clusters = range(1,10) # define the number of potential clusters\n",
    "kmeans = [KMeans(n_clusters=i) for i in num_of_potential_clusters] # defining all cluster with KMeans\n",
    "score = [kmeans[i].fit(df).score(df) for i in range(len(kmeans))] # claculating score for defined clusters"
   ]
  },
  {
   "cell_type": "code",
   "execution_count": 134,
   "id": "daef6b42",
   "metadata": {
    "scrolled": true
   },
   "outputs": [
    {
     "data": {
      "text/plain": [
       "<AxesSubplot:>"
      ]
     },
     "execution_count": 134,
     "metadata": {},
     "output_type": "execute_result"
    },
    {
     "data": {
      "image/png": "[encoded data removed]",
      "text/plain": [
       "<Figure size 432x288 with 1 Axes>"
      ]
     },
     "metadata": {
      "needs_background": "light"
     },
     "output_type": "display_data"
    }
   ],
   "source": [
    "# plot clusters\n",
    "sns.lineplot(x = num_of_potential_clusters, y = score)"
   ]
  },
  {
   "cell_type": "code",
   "execution_count": 135,
   "id": "e0281ab4",
   "metadata": {},
   "outputs": [
    {
     "data": {
      "text/plain": [
       "KMeans(n_clusters=4)"
      ]
     },
     "execution_count": 135,
     "metadata": {},
     "output_type": "execute_result"
    }
   ],
   "source": [
    "# beacuse the sharp edge are up to cluster number 4 so the rest are all most identical\n",
    "# so will will consider only 4 clusters\n",
    "kmeans = KMeans(n_clusters=4)\n",
    "kmeans.fit(df) # the fit the 4 clusters in the KMeans"
   ]
  },
  {
   "cell_type": "code",
   "execution_count": 136,
   "id": "5310323d",
   "metadata": {
    "scrolled": true
   },
   "outputs": [
    {
     "data": {
      "text/plain": [
       "3    635\n",
       "0    524\n",
       "2    247\n",
       "1     53\n",
       "Name: clusters, dtype: int64"
      ]
     },
     "execution_count": 136,
     "metadata": {},
     "output_type": "execute_result"
    }
   ],
   "source": [
    "# add clusters column to the data frame to see the cluster every record belongs to\n",
    "label = df['clusters'] = kmeans.fit_predict(df)\n",
    "\n",
    "# count all recors per cluster\n",
    "df['clusters'].value_counts()"
   ]
  },
  {
   "cell_type": "code",
   "execution_count": 137,
   "id": "9db512df",
   "metadata": {
    "scrolled": true
   },
   "outputs": [
    {
     "data": {
      "text/plain": [
       "Index(['IdentityDwellingType', 'ZoneType', 'LotFrontage', 'LotArea', 'Street',\n",
       "       'DwellingType', 'HouseStyle', 'RoofStyle', 'Exterior1st', 'Foundation',\n",
       "       'BasementQuality', 'Heating', 'HeatingQualityCondition', 'Electrical',\n",
       "       'KitchenQual', 'GarageArea', 'GarageQuality', 'SalePrice', 'clusters'],\n",
       "      dtype='object')"
      ]
     },
     "execution_count": 137,
     "metadata": {},
     "output_type": "execute_result"
    }
   ],
   "source": [
    "df.columns"
   ]
  },
  {
   "cell_type": "code",
   "execution_count": 138,
   "id": "4fbdc950",
   "metadata": {
    "scrolled": false
   },
   "outputs": [
    {
     "data": {
      "text/plain": [
       "<AxesSubplot:xlabel='GarageArea', ylabel='SalePrice'>"
      ]
     },
     "execution_count": 138,
     "metadata": {},
     "output_type": "execute_result"
    },
    {
     "data": {
      "image/png": "[encoded data removed]",
      "text/plain": [
       "<Figure size 432x288 with 1 Axes>"
      ]
     },
     "metadata": {
      "needs_background": "light"
     },
     "output_type": "display_data"
    }
   ],
   "source": [
    "# unclusterred statterplot\n",
    "sns.scatterplot(data=df,x=\"GarageArea\",y=\"SalePrice\")"
   ]
  },
  {
   "cell_type": "code",
   "execution_count": 150,
   "id": "d88ed6ba",
   "metadata": {},
   "outputs": [],
   "source": [
    "## The concentrated data points close to the line of best fit indicate a strong positive relationship between Garage Area and Sale Price. Meaning Sale Price increase with increase in Garage Area."
   ]
  },
  {
   "cell_type": "code",
   "execution_count": 139,
   "id": "83d7c308",
   "metadata": {
    "scrolled": true
   },
   "outputs": [
    {
     "data": {
      "text/plain": [
       "<matplotlib.collections.PathCollection at 0x7fcf2057fd60>"
      ]
     },
     "execution_count": 139,
     "metadata": {},
     "output_type": "execute_result"
    },
    {
     "data": {
      "image/png": "[encoded data removed]",
      "text/plain": [
       "<Figure size 432x288 with 1 Axes>"
      ]
     },
     "metadata": {
      "needs_background": "light"
     },
     "output_type": "display_data"
    }
   ],
   "source": [
    "# scatterplot with clusters\n",
    "plt.scatter(x=df[\"GarageArea\"],y=df[\"SalePrice\"],c=df['clusters'])"
   ]
  },
  {
   "cell_type": "code",
   "execution_count": 149,
   "id": "e392f3ef",
   "metadata": {},
   "outputs": [],
   "source": [
    "df.loc[df['clusters'] == 3, 'cluster'] = 'dark Green'\n",
    "df.loc[df['clusters'] == 2, 'cluster'] = 'dark Blue'\n",
    "df.loc[df['clusters'] == 1, 'cluster'] = 'dark purple'\n",
    "df.loc[df['clusters'] == 0, 'cluster'] = 'Yellow'"
   ]
  },
  {
   "cell_type": "code",
   "execution_count": 146,
   "id": "afff04b1",
   "metadata": {},
   "outputs": [
    {
     "data": {
      "text/html": [
       "<div>\n",
       "<style scoped>\n",
       "    .dataframe tbody tr th:only-of-type {\n",
       "        vertical-align: middle;\n",
       "    }\n",
       "\n",
       "    .dataframe tbody tr th {\n",
       "        vertical-align: top;\n",
       "    }\n",
       "\n",
       "    .dataframe thead tr th {\n",
       "        text-align: left;\n",
       "    }\n",
       "\n",
       "    .dataframe thead tr:last-of-type th {\n",
       "        text-align: right;\n",
       "    }\n",
       "</style>\n",
       "<table border=\"1\" class=\"dataframe\">\n",
       "  <thead>\n",
       "    <tr>\n",
       "      <th></th>\n",
       "      <th colspan=\"2\" halign=\"left\">GarageArea</th>\n",
       "      <th colspan=\"2\" halign=\"left\">SalePrice</th>\n",
       "    </tr>\n",
       "    <tr>\n",
       "      <th></th>\n",
       "      <th>mean</th>\n",
       "      <th>median</th>\n",
       "      <th>mean</th>\n",
       "      <th>median</th>\n",
       "    </tr>\n",
       "    <tr>\n",
       "      <th>cluster</th>\n",
       "      <th></th>\n",
       "      <th></th>\n",
       "      <th></th>\n",
       "      <th></th>\n",
       "    </tr>\n",
       "  </thead>\n",
       "  <tbody>\n",
       "    <tr>\n",
       "      <th>Red</th>\n",
       "      <td>665.097166</td>\n",
       "      <td>648.0</td>\n",
       "      <td>273443.376518</td>\n",
       "      <td>266000.0</td>\n",
       "    </tr>\n",
       "    <tr>\n",
       "      <th>Yellow</th>\n",
       "      <td>496.805344</td>\n",
       "      <td>484.0</td>\n",
       "      <td>184474.759542</td>\n",
       "      <td>180500.0</td>\n",
       "    </tr>\n",
       "    <tr>\n",
       "      <th>dark Blue</th>\n",
       "      <td>351.647244</td>\n",
       "      <td>330.0</td>\n",
       "      <td>120574.166929</td>\n",
       "      <td>126000.0</td>\n",
       "    </tr>\n",
       "    <tr>\n",
       "      <th>purple</th>\n",
       "      <td>797.169811</td>\n",
       "      <td>813.0</td>\n",
       "      <td>437878.528302</td>\n",
       "      <td>402861.0</td>\n",
       "    </tr>\n",
       "  </tbody>\n",
       "</table>\n",
       "</div>"
      ],
      "text/plain": [
       "           GarageArea             SalePrice          \n",
       "                 mean median           mean    median\n",
       "cluster                                              \n",
       "Red        665.097166  648.0  273443.376518  266000.0\n",
       "Yellow     496.805344  484.0  184474.759542  180500.0\n",
       "dark Blue  351.647244  330.0  120574.166929  126000.0\n",
       "purple     797.169811  813.0  437878.528302  402861.0"
      ]
     },
     "execution_count": 146,
     "metadata": {},
     "output_type": "execute_result"
    }
   ],
   "source": [
    "df.groupby('cluster').agg({ 'GarageArea':['mean', 'median'],'SalePrice':['mean', 'median']})"
   ]
  },
  {
   "cell_type": "code",
   "execution_count": 148,
   "id": "dd9ebab4",
   "metadata": {},
   "outputs": [],
   "source": [
    "# The above table demonstrates a Median for cluster Red which is 648 and is greater than other categories, therefore making it possibly the most attractive for sales. While the best SalePrice is with 266000.0 and is the highest SalesPrice. This will inform future pricing and sale decisions "
   ]
  }
 ],
 "metadata": {
  "kernelspec": {
   "display_name": "Python 3 (ipykernel)",
   "language": "python",
   "name": "python3"
  },
  "language_info": {
   "codemirror_mode": {
    "name": "ipython",
    "version": 3
   },
   "file_extension": ".py",
   "mimetype": "text/x-python",
   "name": "python",
   "nbconvert_exporter": "python",
   "pygments_lexer": "ipython3",
   "version": "3.9.12"
  }
 },
 "nbformat": 4,
 "nbformat_minor": 5
}
